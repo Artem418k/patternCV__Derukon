{
 "cells": [
  {
   "cell_type": "markdown",
   "id": "bc612246-326e-457c-879e-eb1298131488",
   "metadata": {},
   "source": [
    "### Частина друга: Анализ файлов\n",
    "\n",
    "**Завдання:**\n",
    "\n",
    "1. Прочитайте файл [`2017_jun_final.csv`](https://drive.google.com/file/d/1JMYqXipZpz9Y5-vyxvLEO2Y1sRBxqu-U/view?usp=sharing) за допомогою методу `read_csv`.\n",
    "2. Прочитайте отриману таблицю, використовуючи метод `head`.\n",
    "3. Визначте розмір таблиці за допомогою методу `shape`.\n",
    "4. Визначте типи всіх стовпців за допомогою `dataframe.dtypes`.\n",
    "5. Порахуйте, яка частка пропусків міститься в кожній колонці (використовуйте методи `isnull` і `sum`).\n",
    "6. Видаліть всі стовпці з пропусками, окрім стовпця \"Язык.программирования\".\n",
    "7. Знову порахуйте, яка частка пропусків міститься в кожній колонці і переконайтеся, що залишився лише стовпець \"Язык.программирования\".\n",
    "8. Видаліть всі рядки в початковій таблиці за допомогою методу `dropna`.\n",
    "9. Визначте новий розмір таблиці за допомогою методу `shape`.\n",
    "10. Створіть нову таблицю `python_data`, в якій будуть лише рядки зі спеціалістами, що вказали мову програмування Python.\n",
    "11. Визначте розмір таблиці `python_data` за допомогою методу `shape`.\n",
    "12. Використовуючи метод `groupby`, групуйте дані по стовпцю \"Должность\".\n",
    "13. Створіть новий DataFrame, де для сгруппованих даних по стовпцю \"Должность\" виконайте агрегацію даних за допомогою методу `agg` і знайдіть мінімальне і максимальне значення в стовпці \"Зарплата.в.месяц\".\n",
    "14. Створіть функцію `fill_avg_salary`, яка буде повертати середнє значення заробітної плати в місяць. Використовуйте її для методу `apply` і створіть новий стовпець \"avg\".\n",
    "15. Створіть описову статистику за допомогою методу `describe` для нового стовпця.\n",
    "16. Збережіть отриману таблицю в CSV файл."
   ]
  },
  {
   "cell_type": "code",
   "execution_count": null,
   "id": "ef15adb4-8634-4b84-9c0a-1e3fae5814b1",
   "metadata": {},
   "outputs": [],
   "source": []
  },
  {
   "cell_type": "code",
   "execution_count": null,
   "id": "99d6ce1c-72ab-4040-9da2-3105cd306c4d",
   "metadata": {},
   "outputs": [],
   "source": []
  },
  {
   "cell_type": "code",
   "execution_count": null,
   "id": "043a4283-d9e0-4660-a651-24b20e284a90",
   "metadata": {},
   "outputs": [],
   "source": []
  },
  {
   "cell_type": "code",
   "execution_count": null,
   "id": "c64d8108-53a9-4725-8561-ebce2fc9152d",
   "metadata": {},
   "outputs": [],
   "source": []
  },
  {
   "cell_type": "code",
   "execution_count": null,
   "id": "2c038809-2d49-4789-9824-3082e2ddf128",
   "metadata": {},
   "outputs": [],
   "source": []
  },
  {
   "cell_type": "code",
   "execution_count": null,
   "id": "77de8097-c6c2-4e08-9d3c-e6f3d2f23cda",
   "metadata": {},
   "outputs": [],
   "source": []
  },
  {
   "cell_type": "code",
   "execution_count": null,
   "id": "a0e255ba-4e34-4b1a-a0f8-568e5724f738",
   "metadata": {},
   "outputs": [],
   "source": []
  }
 ],
 "metadata": {
  "kernelspec": {
   "display_name": "Python 3 (ipykernel)",
   "language": "python",
   "name": "python3"
  },
  "language_info": {
   "codemirror_mode": {
    "name": "ipython",
    "version": 3
   },
   "file_extension": ".py",
   "mimetype": "text/x-python",
   "name": "python",
   "nbconvert_exporter": "python",
   "pygments_lexer": "ipython3",
   "version": "3.11.7"
  }
 },
 "nbformat": 4,
 "nbformat_minor": 5
}
