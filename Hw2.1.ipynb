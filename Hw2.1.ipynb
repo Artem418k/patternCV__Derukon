{
 "cells": [
  {
   "cell_type": "markdown",
   "id": "59581a87-7836-47a7-b05b-8cf361bfedae",
   "metadata": {},
   "source": [
    "### Частина перша: Знайомство з Pandas\n",
    "\n",
    "**Завдання:**\n",
    "\n",
    "1. Прочитайте дані з таблиці \"Коефіцієнт народжуваності в регіонах України (1950—2019)\" за [посиланням](https://uk.wikipedia.org/wiki/%D0%9D%D0%B0%D1%81%D0%B5%D0%BB%D0%B5%D0%BD%D0%BD%D1%8F_%D0%A3%D0%BA%D1%80%D0%B0%D1%97%D0%BD%D0%B8#%D0%9D%D0%B0%D1%80%D0%BE%D0%B4%D0%B6%D1%83%D0%B2%D0%B0%D0%BD%D1%96%D1%81%D1%82%D1%8C) за допомогою методу `read_html`.\n",
    "2. Виведіть перші 5 рядків таблиці за допомогою методу `head`.\n",
    "3. Визначте кількість рядків і стовпців в датафреймі (атрибут `shape`).\n",
    "4. Замініть в таблиці значення \"—\" на значення NaN.\n",
    "5. Визначте типи всіх стовпців за допомогою `dataframe.dtypes`.\n",
    "6. Замініть типы нечислових колонок на числові. Підказка: це колонки, де знаходився символ \"-\".\n",
    "7. Порахуйте, яка частка пропусків міститься в кожній колонці (використовуйте методи `isnull` і `sum`).\n",
    "8. Видаліть з таблиці дані по всій країні (остання строка таблиці).\n",
    "9. Замініть відсутні дані в стовпцях середніми значеннями по цим стовпцям (метод `fillna`).\n",
    "10. Отримайте список регіонів, де рівень народжуваності в 2019 році був вище середнього по Україні.\n",
    "11. В якому регіоні була найвища народжуваність в 2014 році?\n",
    "12. Побудуйте стовбчасту діаграму народжуваності по регіонах в 2019 році."
   ]
  },
  {
   "cell_type": "code",
   "execution_count": null,
   "id": "9c501afa-b58a-4e76-b458-7c2f9f6d307c",
   "metadata": {},
   "outputs": [],
   "source": []
  },
  {
   "cell_type": "code",
   "execution_count": null,
   "id": "750597e8-061c-4d0b-a900-58617b3f3252",
   "metadata": {},
   "outputs": [],
   "source": []
  },
  {
   "cell_type": "code",
   "execution_count": null,
   "id": "ebc5765b-69eb-44af-9b4d-40312d2a5d36",
   "metadata": {},
   "outputs": [],
   "source": []
  },
  {
   "cell_type": "code",
   "execution_count": null,
   "id": "73282cf5-63fb-4d11-901f-e935ed3cb8b3",
   "metadata": {},
   "outputs": [],
   "source": []
  },
  {
   "cell_type": "code",
   "execution_count": null,
   "id": "262b4a6f-ae2d-4eb7-a888-658e4e7c69ba",
   "metadata": {},
   "outputs": [],
   "source": []
  },
  {
   "cell_type": "code",
   "execution_count": null,
   "id": "e46de00b-bf22-41d5-962f-90fcb1879863",
   "metadata": {},
   "outputs": [],
   "source": []
  }
 ],
 "metadata": {
  "kernelspec": {
   "display_name": "Python 3 (ipykernel)",
   "language": "python",
   "name": "python3"
  },
  "language_info": {
   "codemirror_mode": {
    "name": "ipython",
    "version": 3
   },
   "file_extension": ".py",
   "mimetype": "text/x-python",
   "name": "python",
   "nbconvert_exporter": "python",
   "pygments_lexer": "ipython3",
   "version": "3.11.7"
  }
 },
 "nbformat": 4,
 "nbformat_minor": 5
}
