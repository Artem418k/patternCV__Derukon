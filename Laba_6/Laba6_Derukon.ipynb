{
 "cells": [
  {
   "cell_type": "markdown",
   "id": "753478f2-b77f-402a-bb91-e6c09b5eb9f4",
   "metadata": {},
   "source": [
    "<a href=\"https://github.com/Artem418k\">Дерикон Артем</a>, 2024"
   ]
  },
  {
   "cell_type": "markdown",
   "id": "e17e3724-bb2b-44c9-9cc6-3ef3b938d589",
   "metadata": {},
   "source": [
    "#### <h1 align=\"center\">Лабораторна робота №6. Метод головних компонент. Метричні методи класифікації\n",
    "</h1>"
   ]
  },
  {
   "cell_type": "markdown",
   "id": "df87d852-13f8-42ea-b850-001524d50c5f",
   "metadata": {},
   "source": [
    "<h2> Завдання для самостійної роботи </h2>"
   ]
  },
  {
   "cell_type": "markdown",
   "id": "fac6e4ea-ec0b-4f23-b146-96c25ce414a8",
   "metadata": {},
   "source": [
    "<ol>\n",
    "   <b> <li>1.Побудувати kNN-класифікатор згідно з заданим варіантом без використання віонних функцій і з використанням вікна Парзена. Проаналізувати результати..</li>\n",
    "\n",
    "</ol>\n"
   ]
  },
  {
   "cell_type": "code",
   "execution_count": null,
   "id": "d2decd0d-7ad1-44ae-974e-e3b9dffa9be0",
   "metadata": {},
   "outputs": [],
   "source": []
  },
  {
   "cell_type": "code",
   "execution_count": null,
   "id": "c13d7a4a-7b46-4cb5-b626-a5c4f01c319c",
   "metadata": {},
   "outputs": [],
   "source": []
  },
  {
   "cell_type": "code",
   "execution_count": null,
   "id": "71fbd424-d93a-48b8-bf6f-8f442dd88a79",
   "metadata": {},
   "outputs": [],
   "source": []
  },
  {
   "cell_type": "code",
   "execution_count": null,
   "id": "79c1e04f-7bbb-4cff-804a-8104e396f1b7",
   "metadata": {},
   "outputs": [],
   "source": []
  },
  {
   "cell_type": "code",
   "execution_count": null,
   "id": "f5082187-341a-4e34-8c41-0a0f163569e3",
   "metadata": {},
   "outputs": [],
   "source": []
  },
  {
   "cell_type": "code",
   "execution_count": null,
   "id": "0c3aa66b-5ad7-40cc-bb92-00ffa31a8309",
   "metadata": {},
   "outputs": [],
   "source": []
  },
  {
   "cell_type": "code",
   "execution_count": null,
   "id": "63b4aa8b-1318-4b0e-a6a1-08fb1f6fcafd",
   "metadata": {},
   "outputs": [],
   "source": []
  }
 ],
 "metadata": {
  "kernelspec": {
   "display_name": "Python 3 (ipykernel)",
   "language": "python",
   "name": "python3"
  },
  "language_info": {
   "codemirror_mode": {
    "name": "ipython",
    "version": 3
   },
   "file_extension": ".py",
   "mimetype": "text/x-python",
   "name": "python",
   "nbconvert_exporter": "python",
   "pygments_lexer": "ipython3",
   "version": "3.11.7"
  }
 },
 "nbformat": 4,
 "nbformat_minor": 5
}
