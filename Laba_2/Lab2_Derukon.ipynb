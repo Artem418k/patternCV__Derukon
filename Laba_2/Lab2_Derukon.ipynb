{
 "cells": [
  {
   "cell_type": "markdown",
   "id": "753478f2-b77f-402a-bb91-e6c09b5eb9f4",
   "metadata": {},
   "source": [
    "<a href=\"https://github.com/Artem418k\">Дерикон Артем</a>, 2024"
   ]
  },
  {
   "cell_type": "markdown",
   "id": "a7c8de97-4c17-47a9-b8e4-d7d5eadf74b3",
   "metadata": {},
   "source": [
    "# <h1 align=\"center\">Лабораторна робота №2. Побудова лінійного бінарного класифікатора на основі оптимізації функціонала якості\n",
    "</h1>"
   ]
  },
  {
   "cell_type": "markdown",
   "id": "47d1789a-1f5a-41ce-929a-c9b62417e264",
   "metadata": {},
   "source": [
    "<h2> Завдання для самостійної роботи </h2>"
   ]
  },
  {
   "cell_type": "markdown",
   "id": "e2a1a13f-a863-48af-9ce6-77968c5a7ab0",
   "metadata": {},
   "source": [
    "<ol>\n",
    "    <li>Імпортував дані для навчальної вибірки згідно з індивідуальним варіантом .</li>\n",
    "    <li>Побудував бінарний МНК-класифікатор згідно з розглянутим прикладом і вивів результати бінарної класифікації на графіку.\n",
    "\n",
    "</ol>"
   ]
  },
  {
   "cell_type": "code",
   "execution_count": 2,
   "id": "289d8763-05a3-4bf7-b882-b1cce37395b4",
   "metadata": {},
   "outputs": [
    {
     "name": "stdout",
     "output_type": "stream",
     "text": [
      "Варіант 5:\n",
      "[0.5, -1]\n"
     ]
    },
    {
     "data": {
      "image/png": "[encoded data removed]",
      "text/plain": [
       "<Figure size 640x480 with 1 Axes>"
      ]
     },
     "metadata": {},
     "output_type": "display_data"
    }
   ],
   "source": [
    "import numpy as np\n",
    "import matplotlib.pyplot as plt\n",
    "\n",
    "def classifier(x_train, y_train, variant):\n",
    "\n",
    "    change = True  # Змінна для перевірки змін у вагах\n",
    "    n_train = len(x_train)  # Розмір навчального набору даних\n",
    "    w = [0, -1]  # Початкове значення вектора ваги\n",
    "    a = lambda x: np.sign(x[0] * w[0] + x[1] * w[1])  # Правило класифікації\n",
    "    L = 0.1  # Крок зміни ваги\n",
    "    e = 0.1  # Невелика додаткова величина до w0, щоб забезпечити зазор між лінією розділення та областю\n",
    "    count = 0  # Лічильник ітерацій\n",
    "    last_error_index = -1  # Індекс останньої помилково класифікованої спостереження\n",
    "    while change and count < 100:\n",
    "        change = False\n",
    "        for i in range(n_train):  # Ітерація по спостереженням\n",
    "            if y_train[i] * a(x_train[i]) < 0:  # Якщо помилка класифікації,\n",
    "                w[0] = w[0] + L * y_train[i]  # То коригування ваги w0\n",
    "                last_error_index = i\n",
    "                change = True\n",
    "\n",
    "        Q = sum([1 for i in range(n_train) if y_train[i] * a(x_train[i]) < 0])\n",
    "        if Q == 0:  # Показник якості класифікації (кількість помилок)\n",
    "            break  # Зупинка, якщо всі класифікуються правильно\n",
    "        count += 1\n",
    "    if last_error_index > -1:\n",
    "        w[0] = w[0] + e * y_train[last_error_index]\n",
    "\n",
    "    print(f\"Варіант {variant}:\")  # Друк варіанту\n",
    "    print(w)\n",
    "\n",
    "    line_x = list(range(max(x_train[:, 0])))  # Створення графіка роздільної лінії\n",
    "    line_y = [w[0] * x for x in line_x]\n",
    "\n",
    "    x_0 = x_train[y_train == 1]  # Формування точок для першого класу\n",
    "    x_1 = x_train[y_train == -1]  # та другого класу\n",
    "\n",
    "    plt.scatter(x_0[:, 0], x_0[:, 1], color='red')\n",
    "    plt.scatter(x_1[:, 0], x_1[:, 1], color='blue')\n",
    "    plt.plot(line_x, line_y, color='green')\n",
    "\n",
    "    plt.xlim([0, 55])\n",
    "    plt.ylim([0, 55])\n",
    "    plt.ylabel(\"довжина\")\n",
    "    plt.xlabel(\"ширина\")\n",
    "    plt.grid(True)\n",
    "    plt.show()\n",
    "\n",
    "x_train_5 = np.array([[49, 50], [5, 29], [37, 41], [38, 38], [13, 5], [41, 27], [7, 32], [40, 18], [31, 18], [41, 31]])\n",
    "y_train_5 = np.array([-1, -1, -1, -1, 1, 1, -1, -1, 1, -1])\n",
    "variant = 5\n",
    "classifier(x_train_5, y_train_5, variant)"
   ]
  },
  {
   "cell_type": "markdown",
   "id": "197cf2ec-efce-436d-864c-a98ff34bcf6f",
   "metadata": {},
   "source": [
    "<h1 align=\"center\">Контрольні запитання</h1>"
   ]
  },
  {
   "cell_type": "markdown",
   "id": "a5916487-1001-4241-9588-9740af206873",
   "metadata": {},
   "source": [
    "1.Що таке відступ (margin) і яка його роль в побудові моделі класифікації? <br><br>\n",
    "   <b>\n",
    "   Відступ (margin) - це відстань від точки даних до роздільної гіперплощини у моделі класифікації. Роль відступу полягає в тому, що він визначає міру впевненості моделі у правильності класифікації об'єкта. Більший відступ вказує на більш впевнену класифікацію, тоді як менший відступ може свідчити про більшу невпевненість.\n",
    "   </b><br><br>\n",
    "2.Яка роль функції втрат і чому не можна знайти коефіцієнти лінійного класифікатора шляхом безпосереднього розв'язаня задачі оптимізації через знаходження похідної? <br><br>\n",
    "   <b>\n",
    "Функція втрат - це функція, яка вимірює рівень помилок між прогнозованими значеннями моделі та фактичними значеннями у навчальних даних. Роль функції втрат полягає в тому, щоб навчити модель шукати оптимальні значення параметрів, які мінімізують ці помилки. Безпосереднє розв'язання задачі оптимізації через знаходження похідної не завжди можливе через нелінійність та складність функції втрат.\n",
    "  </b><br><br>\n",
    "3.Чим приницпово розрізняється алгоритм, розглянутий у цій роботі від алгоритму, розглянутого у лаб. роб 1?<br><br>\n",
    "   <b>\n",
    "  Обидва наведені алгоритми виглядають подібно, але вони різняться в своїй функціональності та цілях:\n",
    "\n",
    "Перший алгоритм:\n",
    "\n",
    "-Генерує перший варіант даних x_train_1 та y_train_1.<br>\n",
    "-Генерує додаткові варіанти даних (від 2-го до 15-го).<br>\n",
    "-У кожному додатковому варіанті перевіряється, чи міститься він вже в x_train_1, і якщо так, то видаляється перетин, а результати виводяться.<br>\n",
    "-Після генерації всіх додаткових варіантів, виводяться всі дані, включаючи перший варіант та всі додаткові.<br>\n",
    "\n",
    "Другий алгоритм:\n",
    "\n",
    "-Також генерує перший варіант даних x_train_1 та y_train_1. <br>\n",
    "-Також генерує додаткові варіанти даних (від 2-го до 15-го). <br>\n",
    "-У кожному додатковому варіанті також перевіряється, чи міститься він вже в x_train_1, і якщо так, то видаляється перетин. <br>\n",
    "-Після генерації всіх додаткових варіантів виводяться лише дані для кожного додаткового варіанту, не включаючи перший варіант. <br>\n",
    "\n",
    "Отже, основна різниця полягає в тому, що перший алгоритм виводить усі дані (включаючи перший варіант та всі додаткові), тоді як другий алгоритм виводить лише дані для кожного додаткового варіанту, інші дані не включаються.\n",
    "</b><br><br>\n",
    "4.Вивести математичний вираз для оцінки вектора $\\omega$?\n",
    "<br><br>\n",
    "   <b>Оцінка вектора **ω** в алгоритмі персептрона проводиться через ітераційний процес навчання, де змінні ваги оновлюються на кожному кроці. Однак, математично, можна виразити оцінку вектора **ω** на основі даних та навчальних міток.\n",
    "\n",
    "Основна ідея полягає у тому, що вектор **ω** повинен бути таким, що правильно класифікує всі точки навчального набору даних. Це означає, що для кожної точки **(xi, yi)**, де **xi** - вектор ознак, а **yi** - мітка класу (-1 або 1), має виконуватися:\n",
    "\n",
    "yi (ω · xi) > 0\n",
    "\n",
    "де **·** позначає скалярний добуток.\n",
    "\n",
    "Отже, можна сформулювати наступний математичний вираз для оцінки вектора **ω**:\n",
    "\n",
    "**ω** = arg min_ω Σ_i=1^n (yi (ω · xi))\n",
    "\n",
    "де **n** - кількість точок у навчальному наборі даних.\n",
    "\n",
    "Цей вираз вказує на те, що вектор **ω** вибирається таким чином, щоб мінімізувати суму значень yi (ω · xi) для всіх точок навчального набору даних.\n",
    "  </b>\n"
   ]
  }
 ],
 "metadata": {
  "kernelspec": {
   "display_name": "Python 3 (ipykernel)",
   "language": "python",
   "name": "python3"
  },
  "language_info": {
   "codemirror_mode": {
    "name": "ipython",
    "version": 3
   },
   "file_extension": ".py",
   "mimetype": "text/x-python",
   "name": "python",
   "nbconvert_exporter": "python",
   "pygments_lexer": "ipython3",
   "version": "3.11.7"
  }
 },
 "nbformat": 4,
 "nbformat_minor": 5
}
