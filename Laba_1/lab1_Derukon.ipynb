{
 "cells": [
  {
   "cell_type": "markdown",
   "id": "1c53caa5-81b3-460d-809a-9d947115f2c2",
   "metadata": {},
   "source": [
    "<a href=\"https://github.com/Artem418k\">Дерикон Артем</a>, 2024\n",
    ";\n"
   ]
  },
  {
   "cell_type": "markdown",
   "id": "fc3cb518-1514-4d5f-a3d2-f00339c7e046",
   "metadata": {},
   "source": [
    "# <h1 align=\"center\">Лабораторна робота №1. Побудова простого лінійного бінарного класифікатора\n",
    "</h1>\n"
   ]
  },
  {
   "cell_type": "markdown",
   "id": "3c6c8973-0787-4661-81cf-9c2bed86476e",
   "metadata": {},
   "source": [
    "<h2> Завдання для самостійної роботи </h2>"
   ]
  },
  {
   "cell_type": "markdown",
   "id": "eaed5435-0464-4e52-907a-0b0f8382417b",
   "metadata": {},
   "source": [
    "<ol>\n",
    "    <li>Імпортував дані для навчальної вибірки згідно з індивідуальним варіантом . Варiант 5</li>\n",
    "    <li>Побудував бінарний класифікатор і вивів результати бінарної класифікації на графіку. \n",
    "\n",
    "</ol>"
   ]
  },
  {
   "cell_type": "code",
   "execution_count": 2,
   "id": "81d34c5f-f0c8-4799-8c99-6dc3d2914424",
   "metadata": {},
   "outputs": [
    {
     "name": "stdout",
     "output_type": "stream",
     "text": [
      "[-0.5, 1, 0]\n"
     ]
    },
    {
     "data": {
      "image/png": "[encoded data removed]",
      "text/plain": [
       "<Figure size 640x480 with 1 Axes>"
      ]
     },
     "metadata": {},
     "output_type": "display_data"
    }
   ],
   "source": [
    "import numpy as np\n",
    "import matplotlib.pyplot as plt\n",
    "\n",
    "def classifier(x_train, y_train):\n",
    "\n",
    "    change = True  # Змінна для перевірки змін у вагах\n",
    "    n_train = len(x_train)  # Розмір навчального набору даних\n",
    "    w = [0, 1, 0]  # Початкове значення вектора ваги\n",
    "    a = lambda x: np.sign(x[0] * w[0] + x[1] * w[1])  # Правило класифікації\n",
    "    L = 0.1  # Крок зміни ваги\n",
    "    e = 0.1  # Невелика додаткова величина до w0, щоб забезпечити зазор між лінією розділення та областю\n",
    "    count = 0  # Лічильник ітерацій\n",
    "    last_error_index = -1  # Індекс останньої помилково класифікованої спостереження\n",
    "    while change and count < 100:\n",
    "        change = False\n",
    "        for i in range(n_train):  # Ітерація по спостереженням\n",
    "            if y_train[i] * a(x_train[i]) < 0:  # Якщо помилка класифікації,\n",
    "                w[0] = w[0] + L * y_train[i]  # То коригування ваги w0\n",
    "                last_error_index = i\n",
    "                change = True\n",
    "\n",
    "        Q = sum([1 for i in range(n_train) if y_train[i] * a(x_train[i]) < 0])\n",
    "        if Q == 0:  # Показник якості класифікації (кількість помилок)\n",
    "            break  # Зупинка, якщо всі класифікуються правильно\n",
    "        count += 1\n",
    "    if last_error_index > -1:\n",
    "        w[0] = w[0] + e * y_train[last_error_index]\n",
    "\n",
    "    print(w)\n",
    "\n",
    "    line_x = list(range(max(x_train[:, 0])))  # Створення графіка роздільної лінії\n",
    "    line_y = [w[0] * x for x in line_x]\n",
    "\n",
    "    x_0 = x_train[y_train == 1]  # Формування точок для 1-го класу\n",
    "    x_1 = x_train[y_train == -1]  # та 2-го класу\n",
    "\n",
    "    # Добавление диагонали\n",
    "    x0, y0 = 0, 0  # Начальная точка диагонали\n",
    "    diag_x = np.linspace(x0, max(x_train[:, 0]), 100)  # x-координаты для диагонали\n",
    "    diag_y = np.linspace(y0, max(x_train[:, 1]), 100)  # y-координаты для диагонали\n",
    "\n",
    "    plt.plot(diag_x, diag_y, color='green')  # Отображение диагонали\n",
    "\n",
    "    plt.scatter(x_0[:, 0], x_0[:, 1], color='red')\n",
    "    plt.scatter(x_1[:, 0], x_1[:, 1], color='blue')\n",
    "    plt.plot(line_x, line_y, color='green')\n",
    "\n",
    "    plt.xlim([0, 50])\n",
    "    plt.ylim([0, 40])\n",
    "    plt.ylabel(\"довжина\")\n",
    "    plt.xlabel(\"ширина\")\n",
    "    plt.grid(True)\n",
    "    plt.show()\n",
    "\n",
    "x_train_5 = np.array([[28, 14], [22, 13], [24, 22], [6, 34], [11, 22], [38, 20], [33, 17], [39, 35]])\n",
    "y_train_5 = np.array([1, -1, -1, 1, 1, -1, 1, 1])\n",
    "classifier(x_train_5, y_train_5)\n",
    "\n"
   ]
  },
  {
   "cell_type": "markdown",
   "id": "5f117dc7-aaec-4205-8fdd-7ffd4bf5d181",
   "metadata": {},
   "source": [
    "<h1 align=\"center\">Контрольні запитання</h1>\n"
   ]
  },
  {
   "cell_type": "markdown",
   "id": "db2edaab-a323-4744-9260-beee262b36a2",
   "metadata": {},
   "source": [
    "1.Які основні принципи лежать в основі розпізнавання образів у контексті машинного навчання? <br><br>\n",
    "   <b>Основні принципи розпізнавання образів у контексті машинного навчання включають:\n",
    "\n",
    "- Використання алгоритмів і моделей, що здатні автоматично визначати закономірності та взаємозв'язки у вхідних даних.\n",
    "- Використання навчальних даних для навчання моделі на відповідь на певний запит або класифікацію.\n",
    "- Етап тестування, під час якого модель перевіряється на нових даних, які не брали участь у навчанні. </b><br><br>\n",
    "2.Що таке навчальна вибірка і чому вона важлива для процесу розпізнавання образів? <br><br>\n",
    "   <b>Навчальна вибірка - це набір даних, який використовується для навчання моделі в машинному навчанні. Це важливо, оскільки якість та репрезентативність навчальної вибірки безпосередньо впливають на якість навчання моделі. Чим більш репрезентативна навчальна вибірка, тим краще модель може узагальнити знання на нові дані. </b><br><br>\n",
    "3.Зформулювати постановку задачі бінарної класифікації.<br><br>\n",
    "   <b> \n",
    "Постановка задачі бінарної класифікації полягає в тому, щоб визначити, до якого з двох класів належить певний вхідний об'єкт чи образ. Наприклад, це може бути визначення, чи на зображенні зображений кіт чи собака, чи електронне повідомлення є спамом чи ні.</b><br><br>\n",
    "4.Що таке рівняння гіперплощини, і як воно використовується для розв’язання задачі бінарної класифікації?\n",
    "<br><br>\n",
    "   <b> Рівняння гіперплощини - це математична модель, яка використовується для розділення простору на дві класові області. У контексті бінарної класифікації, рівняння гіперплощини визначає границю між областями, які відповідають різним класам. Після навчання моделі рівняння гіперплощини використовується для прогнозування класу нових об'єктів на основі їх характеристик. </b><br><br>\n",
    "5.Наведіть кроки для розв’язання простої задачі бінарної класифікації за допомогою машинного навчання.<br><br>\n",
    "<b>Кроки для розв'язання простої задачі бінарної класифікації за допомогою машинного навчання можуть включати:\n",
    "\n",
    "- Збір та підготовка навчальних даних.\n",
    "- Вибір моделі для навчання, наприклад, логістична регресія, метод опорних векторів тощо.\n",
    "- Розділення даних на навчальні та тестові набори.\n",
    "- Навчання моделі на навчальних даних.\n",
    "- Оцінка та тестування навчаної моделі на тестових даних.\n",
    "- Оцінка та аналіз результатів, включаючи точність класифікації та матрицю плутанини.  </b>"
   ]
  },
  {
   "cell_type": "code",
   "execution_count": null,
   "id": "b0757f6e-d8ba-4aca-9943-39365c483976",
   "metadata": {},
   "outputs": [],
   "source": []
  },
  {
   "cell_type": "code",
   "execution_count": null,
   "id": "1ec36e2a-9602-4295-ac1e-2ff4efd77157",
   "metadata": {},
   "outputs": [],
   "source": []
  },
  {
   "cell_type": "code",
   "execution_count": null,
   "id": "58444557-d1da-41c4-b923-c5a1c49ae119",
   "metadata": {},
   "outputs": [],
   "source": []
  },
  {
   "cell_type": "code",
   "execution_count": null,
   "id": "878773f6-6afd-4866-a48b-54f7d6168911",
   "metadata": {},
   "outputs": [],
   "source": []
  }
 ],
 "metadata": {
  "kernelspec": {
   "display_name": "Python 3 (ipykernel)",
   "language": "python",
   "name": "python3"
  },
  "language_info": {
   "codemirror_mode": {
    "name": "ipython",
    "version": 3
   },
   "file_extension": ".py",
   "mimetype": "text/x-python",
   "name": "python",
   "nbconvert_exporter": "python",
   "pygments_lexer": "ipython3",
   "version": "3.11.7"
  }
 },
 "nbformat": 4,
 "nbformat_minor": 5
}
