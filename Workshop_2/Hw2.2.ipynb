{
 "cells": [
  {
   "cell_type": "markdown",
   "id": "bc612246-326e-457c-879e-eb1298131488",
   "metadata": {},
   "source": [
    "### Частина друга: Анализ файлов\n",
    "\n",
    "**Завдання:**\n",
    "\n",
    "1. Прочитайте файл [`2017_jun_final.csv`](https://drive.google.com/file/d/1JMYqXipZpz9Y5-vyxvLEO2Y1sRBxqu-U/view?usp=sharing) за допомогою методу `read_csv`.\n",
    "2. Прочитайте отриману таблицю, використовуючи метод `head`.\n",
    "3. Визначте розмір таблиці за допомогою методу `shape`.\n",
    "4. Визначте типи всіх стовпців за допомогою `dataframe.dtypes`.\n",
    "5. Порахуйте, яка частка пропусків міститься в кожній колонці (використовуйте методи `isnull` і `sum`).\n",
    "6. Видаліть всі стовпці з пропусками, окрім стовпця \"Язык.программирования\".\n",
    "7. Знову порахуйте, яка частка пропусків міститься в кожній колонці і переконайтеся, що залишився лише стовпець \"Язык.программирования\".\n",
    "8. Видаліть всі рядки в початковій таблиці за допомогою методу `dropna`.\n",
    "9. Визначте новий розмір таблиці за допомогою методу `shape`.\n",
    "10. Створіть нову таблицю `python_data`, в якій будуть лише рядки зі спеціалістами, що вказали мову програмування Python.\n",
    "11. Визначте розмір таблиці `python_data` за допомогою методу `shape`.\n",
    "12. Використовуючи метод `groupby`, групуйте дані по стовпцю \"Должность\".\n",
    "13. Створіть новий DataFrame, де для сгруппованих даних по стовпцю \"Должность\" виконайте агрегацію даних за допомогою методу `agg` і знайдіть мінімальне і максимальне значення в стовпці \"Зарплата.в.месяц\".\n",
    "14. Створіть функцію `fill_avg_salary`, яка буде повертати середнє значення заробітної плати в місяць. Використовуйте її для методу `apply` і створіть новий стовпець \"avg\".\n",
    "15. Створіть описову статистику за допомогою методу `describe` для нового стовпця.\n",
    "16. Збережіть отриману таблицю в CSV файл."
   ]
  },
  {
   "cell_type": "code",
   "execution_count": 24,
   "id": "ef15adb4-8634-4b84-9c0a-1e3fae5814b1",
   "metadata": {},
   "outputs": [],
   "source": [
    "import pandas as pd\n",
    "\n",
    "# Завдання 1: Прочитати файл 2017_jun_final.csv за допомогою методу read_csv\n",
    "df = pd.read_csv('2017_jun_final.csv')"
   ]
  },
  {
   "cell_type": "code",
   "execution_count": 27,
   "id": "99d6ce1c-72ab-4040-9da2-3105cd306c4d",
   "metadata": {},
   "outputs": [
    {
     "name": "stdout",
     "output_type": "stream",
     "text": [
      "Перші 5 рядків таблиці:\n",
      "   N                 Должность Язык.программирования Специализация  \\\n",
      "0  1        Junior QA engineer                   NaN     Manual QA   \n",
      "1  2        Junior QA engineer                   NaN     Manual QA   \n",
      "2  3         Software Engineer               C#/.NET           NaN   \n",
      "3  4         Software Engineer            JavaScript           NaN   \n",
      "4  5  Senior Software Engineer            JavaScript           NaN   \n",
      "\n",
      "  Общий.опыт.работы Опыт.работы.на.текущем.месте  Зарплата.в.месяц  \\\n",
      "0               0.5                          0.5               400   \n",
      "1  меньше 3 месяцев             меньше 3 месяцев               430   \n",
      "2                 4                            1              2500   \n",
      "3                 5                            4              2000   \n",
      "4    10 и более лет                          0.5              4500   \n",
      "\n",
      "   Изменение.зарплаты.за.12.месяцев    Город     Размер.компании  ...  \\\n",
      "0                                 0  Харьков       до 10 человек  ...   \n",
      "1                               130  Харьков  свыше 1000 человек  ...   \n",
      "2                               800     Киев     до 1000 человек  ...   \n",
      "3                               400   Одесса      до 200 человек  ...   \n",
      "4                               500   Другой       до 10 человек  ...   \n",
      "\n",
      "  Еще.студент Уровень.английского                    Предметная.область  \\\n",
      "0        True       ниже среднего                         iOS,eCommerce   \n",
      "1        True       выше среднего                        Веб-разработка   \n",
      "2       False             средний  Веб-разработка,Корпоративные системы   \n",
      "3       False       ниже среднего   Desktop Applications,Веб-разработка   \n",
      "4       False             средний   Desktop Applications,Веб-разработка   \n",
      "\n",
      "       Дата.заполнения                                         User.Agent  \\\n",
      "0  12/06/2017 12:38:08  Mozilla/5.0 (Windows NT 10.0; Win64; x64) Appl...   \n",
      "1  12/06/2017 12:42:51  Mozilla/5.0 (iPad; CPU OS 10_2_1 like Mac OS X...   \n",
      "2  12/06/2017 13:02:47  Mozilla/5.0 (Windows NT 10.0; Win64; x64) Appl...   \n",
      "3  12/06/2017 13:03:01  Mozilla/5.0 (Windows NT 6.1; Win64; x64) Apple...   \n",
      "4  12/06/2017 13:03:47  Mozilla/5.0 (iPhone; CPU iPhone OS 10_3_2 like...   \n",
      "\n",
      "    exp current_job_exp salary Валюта  cls  \n",
      "0   0.5             0.5    400    NaN   QA  \n",
      "1   0.0             0.0    430    NaN   QA  \n",
      "2   4.0             1.0   2500    NaN  DEV  \n",
      "3   5.0             4.0   2000    NaN  DEV  \n",
      "4  10.0             0.5   4500    NaN  DEV  \n",
      "\n",
      "[5 rows x 25 columns]\n"
     ]
    }
   ],
   "source": [
    "# Завдання 2: Прочитати отриману таблицю, використовуючи метод head\n",
    "print(\"Перші 5 рядків таблиці:\")\n",
    "print(df.head())"
   ]
  },
  {
   "cell_type": "code",
   "execution_count": 28,
   "id": "043a4283-d9e0-4660-a651-24b20e284a90",
   "metadata": {},
   "outputs": [
    {
     "name": "stdout",
     "output_type": "stream",
     "text": [
      "\n",
      "Розмір таблиці: (8704, 25)\n"
     ]
    }
   ],
   "source": [
    "# Завдання 3: Визначити розмір таблиці за допомогою методу shape\n",
    "print(\"\\nРозмір таблиці:\", df.shape)"
   ]
  },
  {
   "cell_type": "code",
   "execution_count": 29,
   "id": "c64d8108-53a9-4725-8561-ebce2fc9152d",
   "metadata": {},
   "outputs": [
    {
     "name": "stdout",
     "output_type": "stream",
     "text": [
      "\n",
      "Типи всіх стовпців:\n",
      "N                                     int64\n",
      "Должность                            object\n",
      "Язык.программирования                object\n",
      "Специализация                        object\n",
      "Общий.опыт.работы                    object\n",
      "Опыт.работы.на.текущем.месте         object\n",
      "Зарплата.в.месяц                      int64\n",
      "Изменение.зарплаты.за.12.месяцев      int64\n",
      "Город                                object\n",
      "Размер.компании                      object\n",
      "Тип.компании                         object\n",
      "Пол                                  object\n",
      "Возраст                               int64\n",
      "Образование                          object\n",
      "Университет                          object\n",
      "Еще.студент                            bool\n",
      "Уровень.английского                  object\n",
      "Предметная.область                   object\n",
      "Дата.заполнения                      object\n",
      "User.Agent                           object\n",
      "exp                                 float64\n",
      "current_job_exp                     float64\n",
      "salary                                int64\n",
      "Валюта                               object\n",
      "cls                                  object\n",
      "dtype: object\n"
     ]
    }
   ],
   "source": [
    "# Завдання 4: Визначити типи всіх стовпців за допомогою dataframe.dtypes\n",
    "print(\"\\nТипи всіх стовпців:\")\n",
    "print(df.dtypes)"
   ]
  },
  {
   "cell_type": "code",
   "execution_count": 30,
   "id": "2c038809-2d49-4789-9824-3082e2ddf128",
   "metadata": {},
   "outputs": [
    {
     "name": "stdout",
     "output_type": "stream",
     "text": [
      "\n",
      "Частка пропусків в кожній колонці:\n",
      "N                                   0.000000\n",
      "Должность                           0.000000\n",
      "Язык.программирования               0.442325\n",
      "Специализация                       0.829389\n",
      "Общий.опыт.работы                   0.000000\n",
      "Опыт.работы.на.текущем.месте        0.000000\n",
      "Зарплата.в.месяц                    0.000000\n",
      "Изменение.зарплаты.за.12.месяцев    0.000000\n",
      "Город                               0.000000\n",
      "Размер.компании                     0.000000\n",
      "Тип.компании                        0.000000\n",
      "Пол                                 0.000000\n",
      "Возраст                             0.000000\n",
      "Образование                         0.000000\n",
      "Университет                         0.041131\n",
      "Еще.студент                         0.000000\n",
      "Уровень.английского                 0.000000\n",
      "Предметная.область                  0.025620\n",
      "Дата.заполнения                     0.000000\n",
      "User.Agent                          0.000000\n",
      "exp                                 0.000000\n",
      "current_job_exp                     0.000000\n",
      "salary                              0.000000\n",
      "Валюта                              0.998851\n",
      "cls                                 0.180836\n",
      "dtype: float64\n"
     ]
    }
   ],
   "source": [
    "# Завдання 5: Порахуйте, яка частка пропусків міститься в кожній колонці\n",
    "missing_values_ratio = df.isnull().sum() / len(df)\n",
    "print(\"\\nЧастка пропусків в кожній колонці:\")\n",
    "print(missing_values_ratio)"
   ]
  },
  {
   "cell_type": "code",
   "execution_count": 31,
   "id": "77de8097-c6c2-4e08-9d3c-e6f3d2f23cda",
   "metadata": {},
   "outputs": [],
   "source": [
    "# Завдання 6: Видаліть всі стовпці з пропусками, окрім стовпця \"Язык.программирования\"\n",
    "columns_with_nan = df.columns[df.isnull().any()]\n",
    "columns_to_drop = columns_with_nan.difference(columns_to_keep)\n",
    "df.drop(columns_to_drop, axis=1, inplace=True)"
   ]
  },
  {
   "cell_type": "code",
   "execution_count": 32,
   "id": "a0e255ba-4e34-4b1a-a0f8-568e5724f738",
   "metadata": {},
   "outputs": [
    {
     "name": "stdout",
     "output_type": "stream",
     "text": [
      "\n",
      "Частка пропусків в кожній колонці після видалення:\n",
      "N                                   0.000000\n",
      "Должность                           0.000000\n",
      "Язык.программирования               0.442325\n",
      "Общий.опыт.работы                   0.000000\n",
      "Опыт.работы.на.текущем.месте        0.000000\n",
      "Зарплата.в.месяц                    0.000000\n",
      "Изменение.зарплаты.за.12.месяцев    0.000000\n",
      "Город                               0.000000\n",
      "Размер.компании                     0.000000\n",
      "Тип.компании                        0.000000\n",
      "Пол                                 0.000000\n",
      "Возраст                             0.000000\n",
      "Образование                         0.000000\n",
      "Еще.студент                         0.000000\n",
      "Уровень.английского                 0.000000\n",
      "Дата.заполнения                     0.000000\n",
      "User.Agent                          0.000000\n",
      "exp                                 0.000000\n",
      "current_job_exp                     0.000000\n",
      "salary                              0.000000\n",
      "dtype: float64\n"
     ]
    }
   ],
   "source": [
    "# Завдання 7: Знову порахуйте, яка частка пропусків міститься в кожній колонці\n",
    "missing_values_ratio_after_drop = df.isnull().sum() / len(df)\n",
    "print(\"\\nЧастка пропусків в кожній колонці після видалення:\")\n",
    "print(missing_values_ratio_after_drop)"
   ]
  },
  {
   "cell_type": "code",
   "execution_count": 33,
   "id": "cec75190-e90d-4475-a233-f74db31af0e0",
   "metadata": {},
   "outputs": [
    {
     "name": "stdout",
     "output_type": "stream",
     "text": [
      "\n",
      "Таблиця після видалення рядків з пропусками:\n",
      "         N                 Должность Язык.программирования Общий.опыт.работы  \\\n",
      "2        3         Software Engineer               C#/.NET                 4   \n",
      "3        4         Software Engineer            JavaScript                 5   \n",
      "4        5  Senior Software Engineer            JavaScript    10 и более лет   \n",
      "6        7  Junior Software Engineer               C#/.NET                 1   \n",
      "7        8  Senior Software Engineer                   C++                 6   \n",
      "...    ...                       ...                   ...               ...   \n",
      "8692  8693         Software Engineer                  Java                 5   \n",
      "8694  8695  Junior Software Engineer               C#/.NET                 1   \n",
      "8695  8696         Software Engineer                Python                 1   \n",
      "8701  8702  Junior Software Engineer            Ruby/Rails                 1   \n",
      "8703  8704  Senior Software Engineer                  Java                 7   \n",
      "\n",
      "     Опыт.работы.на.текущем.месте  Зарплата.в.месяц  \\\n",
      "2                               1              2500   \n",
      "3                               4              2000   \n",
      "4                             0.5              4500   \n",
      "6                меньше 3 месяцев               600   \n",
      "7                               1              3300   \n",
      "...                           ...               ...   \n",
      "8692                            1              3500   \n",
      "8694                            1               550   \n",
      "8695                          0.5              1500   \n",
      "8701                          0.5               800   \n",
      "8703                            2              5000   \n",
      "\n",
      "      Изменение.зарплаты.за.12.месяцев        Город  Размер.компании  \\\n",
      "2                                  800         Киев  до 1000 человек   \n",
      "3                                  400       Одесса   до 200 человек   \n",
      "4                                  500       Другой    до 10 человек   \n",
      "6                                  100  Хмельницкий    до 50 человек   \n",
      "7                                  500         Киев    до 10 человек   \n",
      "...                                ...          ...              ...   \n",
      "8692                               650     Удаленно   до 200 человек   \n",
      "8694                               550      Харьков   до 200 человек   \n",
      "8695                              1000         Киев    до 10 человек   \n",
      "8701                               500        Львов    до 10 человек   \n",
      "8703                               800       Одесса  до 1000 человек   \n",
      "\n",
      "         Тип.компании      Пол  Возраст           Образование  Еще.студент  \\\n",
      "2      Аутсорсинговая  мужской       26                Высшее        False   \n",
      "3         Продуктовая  мужской       30               Среднее        False   \n",
      "4         Продуктовая  мужской       30    Техникум / Колледж        False   \n",
      "6      Аутсорсинговая  мужской       23                Высшее        False   \n",
      "7         Продуктовая  мужской       28                Высшее        False   \n",
      "...               ...      ...      ...                   ...          ...   \n",
      "8692   Аутсорсинговая  женский       28                Высшее        False   \n",
      "8694   Аутсорсинговая  мужской       23                Высшее        False   \n",
      "8695          Стартап  мужской       29                Высшее        False   \n",
      "8701  Аутстаффинговая  мужской       30  Незаконченное высшее        False   \n",
      "8703      Продуктовая  мужской       28                Высшее        False   \n",
      "\n",
      "     Уровень.английского      Дата.заполнения  \\\n",
      "2                средний  12/06/2017 13:02:47   \n",
      "3          ниже среднего  12/06/2017 13:03:01   \n",
      "4                средний  12/06/2017 13:03:47   \n",
      "6          ниже среднего  12/06/2017 13:04:26   \n",
      "7          выше среднего  12/06/2017 13:04:27   \n",
      "...                  ...                  ...   \n",
      "8692             средний  12/07/2017 13:26:49   \n",
      "8694       ниже среднего  12/07/2017 14:14:33   \n",
      "8695             средний  12/07/2017 14:39:21   \n",
      "8701       выше среднего  12/07/2017 17:32:26   \n",
      "8703       выше среднего  12/07/2017 21:28:57   \n",
      "\n",
      "                                             User.Agent   exp  \\\n",
      "2     Mozilla/5.0 (Windows NT 10.0; Win64; x64) Appl...   4.0   \n",
      "3     Mozilla/5.0 (Windows NT 6.1; Win64; x64) Apple...   5.0   \n",
      "4     Mozilla/5.0 (iPhone; CPU iPhone OS 10_3_2 like...  10.0   \n",
      "6     Mozilla/5.0 (Windows NT 10.0; Win64; x64) Appl...   1.0   \n",
      "7     Mozilla/5.0 (X11; Ubuntu; Linux x86_64; rv:53....   6.0   \n",
      "...                                                 ...   ...   \n",
      "8692  Mozilla/5.0 (Macintosh; Intel Mac OS X 10_12_5...   5.0   \n",
      "8694  Mozilla/5.0 (Windows NT 10.0; WOW64; rv:54.0) ...   1.0   \n",
      "8695  Mozilla/5.0 (X11; Linux x86_64) AppleWebKit/53...   1.0   \n",
      "8701  Mozilla/5.0 (X11; Linux x86_64) AppleWebKit/53...   1.0   \n",
      "8703  Mozilla/5.0 (iPad; CPU OS 10_3_2 like Mac OS X...   7.0   \n",
      "\n",
      "      current_job_exp  salary  \n",
      "2                 1.0    2500  \n",
      "3                 4.0    2000  \n",
      "4                 0.5    4500  \n",
      "6                 0.0     600  \n",
      "7                 1.0    3300  \n",
      "...               ...     ...  \n",
      "8692              1.0    3500  \n",
      "8694              1.0     550  \n",
      "8695              0.5    1500  \n",
      "8701              0.5     800  \n",
      "8703              2.0    5000  \n",
      "\n",
      "[4854 rows x 20 columns]\n"
     ]
    }
   ],
   "source": [
    "# Завдання 8: Видаліть всі рядки в початковій таблиці за допомогою методу dropna\n",
    "df.dropna(inplace=True)\n",
    "print(\"\\nТаблиця після видалення рядків з пропусками:\")\n",
    "print(df)"
   ]
  },
  {
   "cell_type": "code",
   "execution_count": 34,
   "id": "03dbbe09-d2a9-47f1-aa78-0b448f4df9ac",
   "metadata": {},
   "outputs": [
    {
     "name": "stdout",
     "output_type": "stream",
     "text": [
      "\n",
      "Новий розмір таблиці: (4854, 20)\n"
     ]
    }
   ],
   "source": [
    "# Завдання 9: Визначте новий розмір таблиці за допомогою методу shape\n",
    "new_shape = df.shape\n",
    "print(\"\\nНовий розмір таблиці:\", new_shape)"
   ]
  },
  {
   "cell_type": "code",
   "execution_count": 35,
   "id": "28d6e774-5225-4d0f-9ad7-19f005ef52c8",
   "metadata": {},
   "outputs": [],
   "source": [
    "# Завдання 10: Створіть нову таблицю python_data, в якій будуть лише рядки зі спеціалістами, що вказали мову програмування Python\n",
    "python_data = df[df['Язык.программирования'] == 'Python']"
   ]
  },
  {
   "cell_type": "code",
   "execution_count": 36,
   "id": "478ba423-ef7d-494a-942b-da0ceeaa1386",
   "metadata": {},
   "outputs": [
    {
     "name": "stdout",
     "output_type": "stream",
     "text": [
      "\n",
      "Розмір таблиці python_data: (207, 20)\n"
     ]
    }
   ],
   "source": [
    "# Завдання 11: Визначте розмір таблиці python_data за допомогою методу shape\n",
    "python_data_shape = python_data.shape\n",
    "print(\"\\nРозмір таблиці python_data:\", python_data_shape)"
   ]
  },
  {
   "cell_type": "code",
   "execution_count": 38,
   "id": "89d417e2-c204-4e94-9180-aa7f1c96e2b4",
   "metadata": {},
   "outputs": [
    {
     "name": "stdout",
     "output_type": "stream",
     "text": [
      "\n",
      "Перші рядки кожної групи по стовпцю 'Должность':\n",
      "                                  N Язык.программирования Общий.опыт.работы  \\\n",
      "Должность                                                                     \n",
      "Data Scientist / Data Analyst  1707                  Java               1.5   \n",
      "DevOps                         2912                Golang                 8   \n",
      "ERP / CRM                      6713                   PHP                 2   \n",
      "HTML coder                     2050            JavaScript                 1   \n",
      "Junior Software Engineer          7               C#/.NET                 1   \n",
      "Product Manager                4099                Delphi                 7   \n",
      "Senior Software Engineer          5            JavaScript    10 и более лет   \n",
      "Software Engineer                 3               C#/.NET                 4   \n",
      "System Architect                 12                 Scala    10 и более лет   \n",
      "Team lead                      5106                   PHP                 7   \n",
      "Technical Lead                   45                  Perl                 6   \n",
      "\n",
      "                              Опыт.работы.на.текущем.месте  Зарплата.в.месяц  \\\n",
      "Должность                                                                      \n",
      "Data Scientist / Data Analyst             меньше 3 месяцев              2700   \n",
      "DevOps                                    меньше 3 месяцев              7000   \n",
      "ERP / CRM                                                1              2000   \n",
      "HTML coder                                             0.5               400   \n",
      "Junior Software Engineer                  меньше 3 месяцев               600   \n",
      "Product Manager                                          7              3000   \n",
      "Senior Software Engineer                               0.5              4500   \n",
      "Software Engineer                                        1              2500   \n",
      "System Architect                                         1              5600   \n",
      "Team lead                                                4              4000   \n",
      "Technical Lead                                           4              3400   \n",
      "\n",
      "                               Изменение.зарплаты.за.12.месяцев        Город  \\\n",
      "Должность                                                                      \n",
      "Data Scientist / Data Analyst                               300        Львов   \n",
      "DevOps                                                     5500         Киев   \n",
      "ERP / CRM                                                  1000     Черкассы   \n",
      "HTML coder                                                  200        Львов   \n",
      "Junior Software Engineer                                    100  Хмельницкий   \n",
      "Product Manager                                             500         Киев   \n",
      "Senior Software Engineer                                    500       Другой   \n",
      "Software Engineer                                           800         Киев   \n",
      "System Architect                                           1500         Киев   \n",
      "Team lead                                                   500         Киев   \n",
      "Technical Lead                                              250         Киев   \n",
      "\n",
      "                                  Размер.компании     Тип.компании      Пол  \\\n",
      "Должность                                                                     \n",
      "Data Scientist / Data Analyst       до 50 человек          Стартап  мужской   \n",
      "DevOps                             до 200 человек   Аутсорсинговая  мужской   \n",
      "ERP / CRM                           до 10 человек           Другая  мужской   \n",
      "HTML coder                          до 50 человек   Аутсорсинговая  мужской   \n",
      "Junior Software Engineer            до 50 человек   Аутсорсинговая  мужской   \n",
      "Product Manager                     до 50 человек      Продуктовая  мужской   \n",
      "Senior Software Engineer            до 10 человек      Продуктовая  мужской   \n",
      "Software Engineer                 до 1000 человек   Аутсорсинговая  мужской   \n",
      "System Architect               свыше 1000 человек  Аутстаффинговая  мужской   \n",
      "Team lead                           до 10 человек      Продуктовая  мужской   \n",
      "Technical Lead                 свыше 1000 человек  Аутстаффинговая  мужской   \n",
      "\n",
      "                               Возраст           Образование  Еще.студент  \\\n",
      "Должность                                                                   \n",
      "Data Scientist / Data Analyst       35                Высшее        False   \n",
      "DevOps                              29  Незаконченное высшее        False   \n",
      "ERP / CRM                           29  Незаконченное высшее         True   \n",
      "HTML coder                          24                Высшее        False   \n",
      "Junior Software Engineer            23                Высшее        False   \n",
      "Product Manager                     35                Высшее        False   \n",
      "Senior Software Engineer            30    Техникум / Колледж        False   \n",
      "Software Engineer                   26                Высшее        False   \n",
      "System Architect                    30                Высшее        False   \n",
      "Team lead                           29                Высшее        False   \n",
      "Technical Lead                      36  Незаконченное высшее        False   \n",
      "\n",
      "                              Уровень.английского      Дата.заполнения  \\\n",
      "Должность                                                                \n",
      "Data Scientist / Data Analyst       выше среднего  12/06/2017 22:47:41   \n",
      "DevOps                                    средний  13/06/2017 13:29:21   \n",
      "ERP / CRM                                 средний  25/06/2017 14:21:44   \n",
      "HTML coder                          ниже среднего  13/06/2017 09:31:53   \n",
      "Junior Software Engineer            ниже среднего  12/06/2017 13:04:26   \n",
      "Product Manager                     ниже среднего  14/06/2017 17:23:27   \n",
      "Senior Software Engineer                  средний  12/06/2017 13:03:47   \n",
      "Software Engineer                         средний  12/06/2017 13:02:47   \n",
      "System Architect                    выше среднего  12/06/2017 13:05:25   \n",
      "Team lead                           выше среднего  20/06/2017 11:03:25   \n",
      "Technical Lead                      выше среднего  12/06/2017 13:09:29   \n",
      "\n",
      "                                                                      User.Agent  \\\n",
      "Должность                                                                          \n",
      "Data Scientist / Data Analyst  Mozilla/5.0 (X11; Linux x86_64) AppleWebKit/53...   \n",
      "DevOps                         Mozilla/5.0 (Macintosh; Intel Mac OS X 10_12_5...   \n",
      "ERP / CRM                      Mozilla/5.0 (Windows NT 6.3; Win64; x64) Apple...   \n",
      "HTML coder                     Mozilla/5.0 (Windows NT 10.0; Win64; x64) Appl...   \n",
      "Junior Software Engineer       Mozilla/5.0 (Windows NT 10.0; Win64; x64) Appl...   \n",
      "Product Manager                Mozilla/5.0 (Windows NT 6.1; Win64; x64) Apple...   \n",
      "Senior Software Engineer       Mozilla/5.0 (iPhone; CPU iPhone OS 10_3_2 like...   \n",
      "Software Engineer              Mozilla/5.0 (Windows NT 10.0; Win64; x64) Appl...   \n",
      "System Architect               Mozilla/5.0 (X11; Linux x86_64) AppleWebKit/53...   \n",
      "Team lead                      Mozilla/5.0 (X11; Linux x86_64) AppleWebKit/53...   \n",
      "Technical Lead                 Mozilla/5.0 (iPad; CPU OS 10_3_2 like Mac OS X...   \n",
      "\n",
      "                                exp  current_job_exp  salary  \n",
      "Должность                                                     \n",
      "Data Scientist / Data Analyst   1.5              0.0    2700  \n",
      "DevOps                          8.0              0.0    7000  \n",
      "ERP / CRM                       2.0              1.0    2000  \n",
      "HTML coder                      1.0              0.5     400  \n",
      "Junior Software Engineer        1.0              0.0     600  \n",
      "Product Manager                 7.0              7.0    3000  \n",
      "Senior Software Engineer       10.0              0.5    4500  \n",
      "Software Engineer               4.0              1.0    2500  \n",
      "System Architect               10.0              1.0    5600  \n",
      "Team lead                       7.0              4.0    4000  \n",
      "Technical Lead                  6.0              4.0    3400  \n"
     ]
    }
   ],
   "source": [
    "# Завдання 12: Використовуючи метод groupby, групуйте дані по стовпцю \"Должность\"\n",
    "grouped_data = df.groupby('Должность')\n",
    "\n",
    "# Для виводу першого рядка кожної групи можна використати метод first()\n",
    "first_rows_of_groups = grouped_data.first()\n",
    "print(\"\\nПерші рядки кожної групи по стовпцю 'Должность':\")\n",
    "print(first_rows_of_groups)"
   ]
  },
  {
   "cell_type": "code",
   "execution_count": 46,
   "id": "4993dbf5-3319-4295-b07f-343508aa0fa8",
   "metadata": {},
   "outputs": [],
   "source": [
    "# Завдання 13: Створіть новий DataFrame, де для сгруппованих даних по стовпцю \"Должность\" виконайте агрегацію даних за допомогою методу agg і знайдіть мінімальне і максимальне значення в стовпці \"Зарплата.в.месяц\"\n",
    "aggregated_data = grouped_data['Зарплата.в.месяц'].agg(['min', 'max'])"
   ]
  },
  {
   "cell_type": "code",
   "execution_count": 48,
   "id": "cc9b986d-1f38-479e-a892-a5f54411ff89",
   "metadata": {},
   "outputs": [],
   "source": [
    "# Завдання 14: Створіть функцію fill_avg_salary, яка буде повертати середнє значення заробітної плати в місяць. Використовуйте її для методу apply і створіть новий стовпець \"avg\"\n",
    "def fill_avg_salary(group):\n",
    "    return group.mean()\n",
    "\n",
    "df['avg'] = grouped_data['Зарплата.в.месяц'].apply(fill_avg_salary)"
   ]
  },
  {
   "cell_type": "code",
   "execution_count": 51,
   "id": "e89b2133-a1c1-4022-969e-603fffcd9589",
   "metadata": {},
   "outputs": [
    {
     "name": "stdout",
     "output_type": "stream",
     "text": [
      "\n",
      "Описова статистика для нового стовпця 'avg':\n",
      "count    0.0\n",
      "mean     NaN\n",
      "std      NaN\n",
      "min      NaN\n",
      "25%      NaN\n",
      "50%      NaN\n",
      "75%      NaN\n",
      "max      NaN\n",
      "Name: avg, dtype: float64\n"
     ]
    }
   ],
   "source": [
    "# Завдання 15: Створіть описову статистику за допомогою методу describe для нового стовпця\n",
    "avg_salary_stats = df['avg'].describe()\n",
    "print(\"\\nОписова статистика для нового стовпця 'avg':\")\n",
    "print(avg_salary_stats)"
   ]
  },
  {
   "cell_type": "code",
   "execution_count": 44,
   "id": "d1de9edf-66b4-4e55-a9e8-688517b3c343",
   "metadata": {},
   "outputs": [
    {
     "name": "stdout",
     "output_type": "stream",
     "text": [
      "\n",
      "Таблицю збережено в файлі 'aggregated_data.csv'\n"
     ]
    }
   ],
   "source": [
    "# Завдання 16: Збережіть отриману таблицю в CSV файл\n",
    "df.to_csv('aggregated_data.csv', index=False, encoding='utf-8')\n",
    "print(\"\\nТаблицю збережено в файлі 'aggregated_data.csv'\")"
   ]
  }
 ],
 "metadata": {
  "kernelspec": {
   "display_name": "Python 3 (ipykernel)",
   "language": "python",
   "name": "python3"
  },
  "language_info": {
   "codemirror_mode": {
    "name": "ipython",
    "version": 3
   },
   "file_extension": ".py",
   "mimetype": "text/x-python",
   "name": "python",
   "nbconvert_exporter": "python",
   "pygments_lexer": "ipython3",
   "version": "3.12.3"
  }
 },
 "nbformat": 4,
 "nbformat_minor": 5
}
