{
 "cells": [
  {
   "cell_type": "markdown",
   "id": "22d485c6-461d-4bf2-a90c-527b1b6d15cd",
   "metadata": {},
   "source": [
    "<a href=\"https://github.com/Artem418k\">Самарец Глєб</a>, 2024\n"
   ]
  },
  {
   "cell_type": "markdown",
   "id": "8e2fd47c-3bb5-488d-a7cd-7f08e938c597",
   "metadata": {},
   "source": [
    "## Домашнє завдання"
   ]
  },
  {
   "cell_type": "markdown",
   "id": "42621b4f-b5fa-4696-817f-89bd57a1361c",
   "metadata": {},
   "source": [
    "Розв'яжіть наступний комплекс задач. Складіть систему лінійних рівнянь і розв'яжіть її за допомогою модуля numpy"
   ]
  },
  {
   "cell_type": "markdown",
   "id": "0a79ef7b-c7f1-43d7-9ef7-b9461fca9864",
   "metadata": {},
   "source": [
    "## Задача 1\n",
    "\n",
    "Вкладник поклав 50 000 умовних одиниць на три різних рахунки в три різних банки.\n",
    "\n",
    "- Перший рахунок: 5% річних.\n",
    "- Другий рахунок: 7% річних.\n",
    "- Третій рахунок: 6% річних.\n",
    "\n",
    "Відомо, що через рік вкладник отримав:\n",
    "- З першого та другого банку - 2250 у.е.\n",
    "- З першого та третього банку - 1400 у.е.\n",
    "\n",
    "Скільки умовних одиниць він поклав на кожен рахунок спочатку?"
   ]
  },
  {
   "cell_type": "markdown",
   "id": "683a7c8a-51bc-4f01-b748-c26e2c2f4c2f",
   "metadata": {},
   "source": [
    "### Розв'язання\n",
    "\n",
    "Позначимо x, y, і z суми, які вкладник поклав на перший, другий і третій рахунки відповідно.\n",
    "\n",
    "Отже, ми маємо такі рівняння:\n",
    "\n",
    "1. 0.05x + 0.07y = 2250\n",
    "2. 0.05x + 0.06z = 1400\n",
    "3. x + y + z = 50000\n",
    "\n",
    "Тепер ми можемо розв'язати цю систему рівнянь за допомогою модуля numpy в Python:"
   ]
  },
  {
   "cell_type": "code",
   "execution_count": 44,
   "id": "2ebddba4-32b6-4846-9e08-65604e7d7e3d",
   "metadata": {},
   "outputs": [
    {
     "name": "stdout",
     "output_type": "stream",
     "text": [
      "Сума на першому рахунку: 10000.0 умовних одиниць\n",
      "Сума на другому рахунку: 25000.0 умовних одиниць\n",
      "Сума на третьому рахунку: 15000.0 умовних одиниць\n"
     ]
    }
   ],
   "source": [
    "import numpy as np\n",
    "\n",
    "# Коефіцієнти перед змінними\n",
    "coefficients = np.array([[0.05, 0.07, 0],\n",
    "                         [0.05, 0,    0.06],\n",
    "                         [1,    1,    1]])\n",
    "\n",
    "# Результати рівнянь\n",
    "results = np.array([2250, 1400, 50000])\n",
    "\n",
    "# Розв'язок системи рівнянь\n",
    "solution = np.linalg.solve(coefficients, results)\n",
    "\n",
    "# Виведемо розв'язок\n",
    "print(\"Сума на першому рахунку:\", round(solution[0], 2), \"умовних одиниць\")\n",
    "print(\"Сума на другому рахунку:\", round(solution[1], 2), \"умовних одиниць\")\n",
    "print(\"Сума на третьому рахунку:\", round(solution[2], 2), \"умовних одиниць\")\n"
   ]
  },
  {
   "cell_type": "markdown",
   "id": "f02659ca-2284-4ec4-975a-a40d4ac9045d",
   "metadata": {},
   "source": [
    "## Задача 2\n",
    "На складі зберігаються мобільні телефони iPhone 6, iPhone 11, iPhone 12 моделей.\n",
    "\n",
    "- Всього 1328 екземплярів.\n",
    "- Моделей iPhone 6 на 120 менше, ніж моделей iPhone 11.\n",
    "- Моделей iPhone 6 на 100 більше, ніж моделей iPhone 12.\n",
    "- Скільки моделей кожного виду на складі?"
   ]
  },
  {
   "cell_type": "markdown",
   "id": "51e6f56c-e865-428f-b5a5-d205cd9cea92",
   "metadata": {},
   "source": [
    "### Розв'язання\n",
    "Позначимо кількість моделей iPhone 6, iPhone 11 і iPhone 12 відповідно як x, y і z.\n",
    "\n",
    "Ми знаємо:\n",
    "\n",
    "1. x + y + z = 1328 (загальна кількість моделей)\n",
    "2. x = y - 120 (моделей iPhone 6 на 120 менше, ніж моделей iPhone 11)\n",
    "3. x = z + 100 (моделей iPhone 6 на 100 більше, ніж моделей iPhone 12)\n",
    "\n",
    "Вирішимо цю систему рівнянь за допомогою бібліотеки numpy в Python:"
   ]
  },
  {
   "cell_type": "code",
   "execution_count": 46,
   "id": "a73b38c9-85aa-47f4-8766-9fd738d0c482",
   "metadata": {},
   "outputs": [
    {
     "name": "stdout",
     "output_type": "stream",
     "text": [
      "Кількість iPhone 6: 436\n",
      "Кількість iPhone 11: 556\n",
      "Кількість iPhone 12: 336\n"
     ]
    }
   ],
   "source": [
    "import numpy as np\n",
    "\n",
    "# Коефіцієнти перед змінними в системі рівнянь\n",
    "coefficients = np.array([[1, 1, 1], [1, -1, 0], [1, 0, -1]])\n",
    "\n",
    "# Константи в системі рівнянь\n",
    "constants = np.array([1328, -120, 100])\n",
    "\n",
    "# Розв'язання системи рівнянь\n",
    "solution = np.linalg.solve(coefficients, constants)\n",
    "\n",
    "# Округлення значень до цілих чисел\n",
    "solution = np.round(solution).astype(int)\n",
    "\n",
    "print(\"Кількість iPhone 6:\", solution[0])\n",
    "print(\"Кількість iPhone 11:\", solution[1])\n",
    "print(\"Кількість iPhone 12:\", solution[2])"
   ]
  },
  {
   "cell_type": "markdown",
   "id": "13c1b5b7-bc0b-4c27-b59a-6297a2530e69",
   "metadata": {},
   "source": [
    "## Задача 3\n",
    "Складіть канонічне рівняння еліпсоїда, що проходить через три точки A, B, C:\n",
    "\n",
    "$$\n",
    "A(\\sqrt3; 0; \\sqrt3), B(\\sqrt6; \\frac{1}{2}; 0), C(1; \\frac{1}{\\sqrt3}; 1)\n",
    "$$\n",
    "\n",
    "Канонічне рівняння еліпсоїда в прямокутній декартовій системі координат має вид:\n",
    "\n",
    "$$\n",
    "\\frac{x^2}{a^2} + \\frac{y^2}{b^2} + \\frac{z^2}{c^2} = 1\n",
    "$$\n",
    "\n",
    "Задача полягає у визначенні параметрів: $$a^2, b^2, c^2 $$"
   ]
  },
  {
   "cell_type": "markdown",
   "id": "cee5c2ee-e4d7-4b73-b417-0aca7119414e",
   "metadata": {},
   "source": [
    "### Розв'язання\n",
    "\n",
    "Для початку, визначимо рівняння еліпса, використовуючи відомі точки \\( A \\), \\( B \\), \\( C \\). Рівняння еліпса в канонічній формі має вигляд:\n",
    "\n",
    "$$\n",
    "\\frac{x^2}{a^2} + \\frac{y^2}{b^2} + \\frac{z^2}{c^2} = 1\n",
    "$$\n",
    "\n",
    "Підставимо координати точок \\( A \\), \\( B \\), \\( C \\) в це рівняння і вирішимо систему рівнянь для знаходження параметрів \\( a^2 \\), \\( b^2 \\), \\( c^2 \\).\n",
    "\n",
    "\n",
    "\\begin{cases}\n",
    "\\frac{(\\sqrt3)^2}{a^2} + \\frac{0^2}{b^2} + \\frac{(\\sqrt3)^2}{c^2} = 1 \\\\\n",
    "\\frac{(\\sqrt6)^2}{a^2} + \\frac{\\frac{1}{2}^2}{b^2} + \\frac{0^2}{c^2} = 1 \\\\\n",
    "\\frac{1^2}{a^2} + \\frac{\\frac{1}{\\sqrt3}^2}{b^2} + \\frac{1^2}{c^2} = 1 \\\\\n",
    "\\end{cases}\n",
    "\n",
    "\n",
    "Розв'яжемо цю систему рівнянь за допомогою NumPy."
   ]
  },
  {
   "cell_type": "code",
   "execution_count": 47,
   "id": "772c23aa-3832-41c5-a01e-3f8edcf30137",
   "metadata": {},
   "outputs": [
    {
     "name": "stdout",
     "output_type": "stream",
     "text": [
      "a^2 = 0.08333333333333338\n",
      "b^2 = 1.9999999999999993\n",
      "c^2 = 0.25\n"
     ]
    }
   ],
   "source": [
    "import numpy as np\n",
    "\n",
    "# Координати точок A, B, C\n",
    "A = np.array([np.sqrt(3), 0, np.sqrt(3)])\n",
    "B = np.array([np.sqrt(6), 1/2, 0])\n",
    "C = np.array([1, 1/np.sqrt(3), 1])\n",
    "\n",
    "# Формування матриці коефіцієнтів системи рівнянь\n",
    "coefficients_matrix = np.array([[A[0]**2, 0, A[2]**2],\n",
    "                                [B[0]**2, (1/2)**2, 0],\n",
    "                                [1, (1/np.sqrt(3))**2, 1]])\n",
    "\n",
    "# Вектор вільних членів\n",
    "constants_vector = np.array([1, 1, 1])\n",
    "\n",
    "# Розв'язок системи рівнянь\n",
    "solution = np.linalg.solve(coefficients_matrix, constants_vector)\n",
    "\n",
    "# Виведення результату\n",
    "print(\"a^2 =\", solution[0])\n",
    "print(\"b^2 =\", solution[1])\n",
    "print(\"c^2 =\", solution[2])\n"
   ]
  },
  {
   "cell_type": "markdown",
   "id": "08d5b1b0-48fe-42b6-aaa1-c4e84e038ff7",
   "metadata": {},
   "source": []
  },
  {
   "cell_type": "code",
   "execution_count": null,
   "id": "5198d3ab-e032-4a8b-928c-8e622d755184",
   "metadata": {},
   "outputs": [],
   "source": []
  },
  {
   "cell_type": "code",
   "execution_count": null,
   "id": "f23bb2e6-7899-4911-acf1-23a55e5039ab",
   "metadata": {},
   "outputs": [],
   "source": []
  },
  {
   "cell_type": "code",
   "execution_count": null,
   "id": "9b9f3679-0024-4093-a8ef-961c0b52196c",
   "metadata": {},
   "outputs": [],
   "source": []
  }
 ],
 "metadata": {
  "kernelspec": {
   "display_name": "Python 3 (ipykernel)",
   "language": "python",
   "name": "python3"
  },
  "language_info": {
   "codemirror_mode": {
    "name": "ipython",
    "version": 3
   },
   "file_extension": ".py",
   "mimetype": "text/x-python",
   "name": "python",
   "nbconvert_exporter": "python",
   "pygments_lexer": "ipython3",
   "version": "3.11.7"
  }
 },
 "nbformat": 4,
 "nbformat_minor": 5
}
